{
 "cells": [
  {
   "cell_type": "code",
   "execution_count": 1,
   "id": "48a96dca-7047-4e22-b976-286984231f7f",
   "metadata": {},
   "outputs": [],
   "source": [
    "import pandas as pd"
   ]
  },
  {
   "cell_type": "code",
   "execution_count": 2,
   "id": "646418b5-afe5-4aec-b9ae-200ba2c8c613",
   "metadata": {},
   "outputs": [],
   "source": [
    "races = ['n_white', 'n_black', 'n_hispanic']"
   ]
  },
  {
   "cell_type": "code",
   "execution_count": 3,
   "id": "b7d87aec-d8ec-4cb4-ab45-1e1011f265f1",
   "metadata": {},
   "outputs": [
    {
     "data": {
      "text/html": [
       "<div>\n",
       "<style scoped>\n",
       "    .dataframe tbody tr th:only-of-type {\n",
       "        vertical-align: middle;\n",
       "    }\n",
       "\n",
       "    .dataframe tbody tr th {\n",
       "        vertical-align: top;\n",
       "    }\n",
       "\n",
       "    .dataframe thead th {\n",
       "        text-align: right;\n",
       "    }\n",
       "</style>\n",
       "<table border=\"1\" class=\"dataframe\">\n",
       "  <thead>\n",
       "    <tr style=\"text-align: right;\">\n",
       "      <th></th>\n",
       "      <th>name</th>\n",
       "      <th>n_white</th>\n",
       "      <th>n_black</th>\n",
       "      <th>n_hispanic</th>\n",
       "    </tr>\n",
       "  </thead>\n",
       "  <tbody>\n",
       "    <tr>\n",
       "      <th>0</th>\n",
       "      <td>bith</td>\n",
       "      <td>2</td>\n",
       "      <td>2</td>\n",
       "      <td>4</td>\n",
       "    </tr>\n",
       "    <tr>\n",
       "      <th>1</th>\n",
       "      <td>sith</td>\n",
       "      <td>2</td>\n",
       "      <td>0</td>\n",
       "      <td>1</td>\n",
       "    </tr>\n",
       "  </tbody>\n",
       "</table>\n",
       "</div>"
      ],
      "text/plain": [
       "   name  n_white  n_black  n_hispanic\n",
       "0  bith        2        2           4\n",
       "1  sith        2        0           1"
      ]
     },
     "execution_count": 3,
     "metadata": {},
     "output_type": "execute_result"
    }
   ],
   "source": [
    "df = pd.DataFrame({'name': ['bith', 'sith'], 'n_white': [2, 2], 'n_black': [2, 0], 'n_hispanic': [4, 1]})\n",
    "df"
   ]
  },
  {
   "cell_type": "code",
   "execution_count": 4,
   "id": "bcfc3213-605a-4322-b54c-b02cea46bd00",
   "metadata": {},
   "outputs": [
    {
     "data": {
      "text/plain": [
       "(2, 'n_hispanic')"
      ]
     },
     "execution_count": 4,
     "metadata": {},
     "output_type": "execute_result"
    }
   ],
   "source": [
    "pred_race = df[races].mean().argmax()\n",
    "pred_race, races[pred_race]"
   ]
  },
  {
   "cell_type": "markdown",
   "id": "e5f27cd7-e58b-4188-ae3f-7e091790339e",
   "metadata": {},
   "source": [
    "### The original with normalized"
   ]
  },
  {
   "cell_type": "code",
   "execution_count": 5,
   "id": "a04c60fe-7170-4f06-a699-9e79cdf8ce6f",
   "metadata": {},
   "outputs": [
    {
     "data": {
      "text/html": [
       "<div>\n",
       "<style scoped>\n",
       "    .dataframe tbody tr th:only-of-type {\n",
       "        vertical-align: middle;\n",
       "    }\n",
       "\n",
       "    .dataframe tbody tr th {\n",
       "        vertical-align: top;\n",
       "    }\n",
       "\n",
       "    .dataframe thead th {\n",
       "        text-align: right;\n",
       "    }\n",
       "</style>\n",
       "<table border=\"1\" class=\"dataframe\">\n",
       "  <thead>\n",
       "    <tr style=\"text-align: right;\">\n",
       "      <th></th>\n",
       "      <th>name</th>\n",
       "      <th>n_white</th>\n",
       "      <th>n_black</th>\n",
       "      <th>n_hispanic</th>\n",
       "      <th>total_n</th>\n",
       "    </tr>\n",
       "  </thead>\n",
       "  <tbody>\n",
       "    <tr>\n",
       "      <th>0</th>\n",
       "      <td>bith</td>\n",
       "      <td>0.250000</td>\n",
       "      <td>0.25</td>\n",
       "      <td>0.500000</td>\n",
       "      <td>1.0</td>\n",
       "    </tr>\n",
       "    <tr>\n",
       "      <th>1</th>\n",
       "      <td>sith</td>\n",
       "      <td>0.666667</td>\n",
       "      <td>0.00</td>\n",
       "      <td>0.333333</td>\n",
       "      <td>1.0</td>\n",
       "    </tr>\n",
       "  </tbody>\n",
       "</table>\n",
       "</div>"
      ],
      "text/plain": [
       "   name   n_white  n_black  n_hispanic  total_n\n",
       "0  bith  0.250000     0.25    0.500000      1.0\n",
       "1  sith  0.666667     0.00    0.333333      1.0"
      ]
     },
     "execution_count": 5,
     "metadata": {},
     "output_type": "execute_result"
    }
   ],
   "source": [
    "df['total_n'] = df.loc[:, races].sum(axis=1)\n",
    "df.iloc[:, 1:] = df.iloc[:, 1:].div(df.total_n, axis=0)\n",
    "df"
   ]
  },
  {
   "cell_type": "code",
   "execution_count": 6,
   "id": "6373c9e9-cda2-4a51-8d65-ddced42cfadd",
   "metadata": {},
   "outputs": [
    {
     "data": {
      "text/plain": [
       "(0, 'n_white')"
      ]
     },
     "execution_count": 6,
     "metadata": {},
     "output_type": "execute_result"
    }
   ],
   "source": [
    "pred_race = df[races].mean().argmax()\n",
    "pred_race, races[pred_race]"
   ]
  }
 ],
 "metadata": {
  "kernelspec": {
   "display_name": "Python 3 (ipykernel)",
   "language": "python",
   "name": "python3"
  },
  "language_info": {
   "codemirror_mode": {
    "name": "ipython",
    "version": 3
   },
   "file_extension": ".py",
   "mimetype": "text/x-python",
   "name": "python",
   "nbconvert_exporter": "python",
   "pygments_lexer": "ipython3",
   "version": "3.8.12"
  }
 },
 "nbformat": 4,
 "nbformat_minor": 5
}
