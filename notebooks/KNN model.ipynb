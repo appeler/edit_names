{
 "cells": [
  {
   "cell_type": "code",
   "execution_count": 105,
   "id": "324036e2",
   "metadata": {},
   "outputs": [],
   "source": [
    "import pandas as pd\n",
    "import numpy as np\n",
    "from sklearn.neighbors import KNeighborsRegressor"
   ]
  },
  {
   "cell_type": "markdown",
   "id": "e43d86f7",
   "metadata": {},
   "source": [
    "# Data Prep"
   ]
  },
  {
   "cell_type": "code",
   "execution_count": 2,
   "id": "61191a99",
   "metadata": {},
   "outputs": [
    {
     "data": {
      "text/html": [
       "<div>\n",
       "<style scoped>\n",
       "    .dataframe tbody tr th:only-of-type {\n",
       "        vertical-align: middle;\n",
       "    }\n",
       "\n",
       "    .dataframe tbody tr th {\n",
       "        vertical-align: top;\n",
       "    }\n",
       "\n",
       "    .dataframe thead th {\n",
       "        text-align: right;\n",
       "    }\n",
       "</style>\n",
       "<table border=\"1\" class=\"dataframe\">\n",
       "  <thead>\n",
       "    <tr style=\"text-align: right;\">\n",
       "      <th></th>\n",
       "      <th>name_last</th>\n",
       "      <th>name_first</th>\n",
       "      <th>race</th>\n",
       "    </tr>\n",
       "  </thead>\n",
       "  <tbody>\n",
       "    <tr>\n",
       "      <th>0</th>\n",
       "      <td>Walker</td>\n",
       "      <td>Elizabeth</td>\n",
       "      <td>nh_white</td>\n",
       "    </tr>\n",
       "    <tr>\n",
       "      <th>1</th>\n",
       "      <td>Palmer</td>\n",
       "      <td>Alton</td>\n",
       "      <td>nh_white</td>\n",
       "    </tr>\n",
       "    <tr>\n",
       "      <th>2</th>\n",
       "      <td>Mc Cleod</td>\n",
       "      <td>Alicia</td>\n",
       "      <td>nh_black</td>\n",
       "    </tr>\n",
       "    <tr>\n",
       "      <th>3</th>\n",
       "      <td>Scarborough</td>\n",
       "      <td>Dale</td>\n",
       "      <td>nh_white</td>\n",
       "    </tr>\n",
       "    <tr>\n",
       "      <th>4</th>\n",
       "      <td>Walker</td>\n",
       "      <td>Daniel</td>\n",
       "      <td>nh_white</td>\n",
       "    </tr>\n",
       "    <tr>\n",
       "      <th>...</th>\n",
       "      <td>...</td>\n",
       "      <td>...</td>\n",
       "      <td>...</td>\n",
       "    </tr>\n",
       "    <tr>\n",
       "      <th>13653888</th>\n",
       "      <td>Philpott</td>\n",
       "      <td>April</td>\n",
       "      <td>nh_white</td>\n",
       "    </tr>\n",
       "    <tr>\n",
       "      <th>13653889</th>\n",
       "      <td>Walters</td>\n",
       "      <td>William</td>\n",
       "      <td>nh_white</td>\n",
       "    </tr>\n",
       "    <tr>\n",
       "      <th>13653890</th>\n",
       "      <td>Sawyer</td>\n",
       "      <td>Matthew</td>\n",
       "      <td>nh_white</td>\n",
       "    </tr>\n",
       "    <tr>\n",
       "      <th>13653891</th>\n",
       "      <td>Thomas</td>\n",
       "      <td>Janine</td>\n",
       "      <td>nh_white</td>\n",
       "    </tr>\n",
       "    <tr>\n",
       "      <th>13653893</th>\n",
       "      <td>Bruner</td>\n",
       "      <td>Jeb</td>\n",
       "      <td>nh_white</td>\n",
       "    </tr>\n",
       "  </tbody>\n",
       "</table>\n",
       "<p>12989098 rows × 3 columns</p>\n",
       "</div>"
      ],
      "text/plain": [
       "            name_last name_first      race\n",
       "0              Walker  Elizabeth  nh_white\n",
       "1              Palmer      Alton  nh_white\n",
       "2            Mc Cleod     Alicia  nh_black\n",
       "3         Scarborough       Dale  nh_white\n",
       "4              Walker     Daniel  nh_white\n",
       "...               ...        ...       ...\n",
       "13653888     Philpott      April  nh_white\n",
       "13653889      Walters    William  nh_white\n",
       "13653890       Sawyer    Matthew  nh_white\n",
       "13653891       Thomas     Janine  nh_white\n",
       "13653893       Bruner        Jeb  nh_white\n",
       "\n",
       "[12989098 rows x 3 columns]"
      ]
     },
     "execution_count": 2,
     "metadata": {},
     "output_type": "execute_result"
    }
   ],
   "source": [
    "# Florida voter file\n",
    "df = pd.read_csv('../dataverse_files/fl_reg_name_race.csv.gz')\n",
    "df.dropna(subset=['name_first', 'name_last'], inplace=True)\n",
    "\n",
    "sdf = df[df.race.isin(['multi_racial', 'native_indian', 'other', 'unknown']) == False]\n",
    "del df\n",
    "\n",
    "# Setting consistent case for names\n",
    "sdf['name_first'] = sdf.name_first.str.title()\n",
    "sdf['name_last'] = sdf.name_last.str.title()\n",
    "\n",
    "sdf"
   ]
  },
  {
   "cell_type": "code",
   "execution_count": 3,
   "id": "f65a2913",
   "metadata": {},
   "outputs": [
    {
     "data": {
      "text/plain": [
       "nh_white    8714118\n",
       "hispanc     2174408\n",
       "nh_black    1847266\n",
       "asian        253306\n",
       "Name: race, dtype: int64"
      ]
     },
     "execution_count": 3,
     "metadata": {},
     "output_type": "execute_result"
    }
   ],
   "source": [
    "# check the different races filtered\n",
    "sdf.race.value_counts()"
   ]
  },
  {
   "cell_type": "code",
   "execution_count": 69,
   "id": "2a492716",
   "metadata": {},
   "outputs": [],
   "source": [
    "# Summing the count of each name & race combination\n",
    "gdf = sdf.groupby(['name_last','race'], as_index=False)['race'].agg(['count']).reset_index()"
   ]
  },
  {
   "cell_type": "code",
   "execution_count": 70,
   "id": "35bdfede",
   "metadata": {},
   "outputs": [],
   "source": [
    "# creating a pivot table so that each name has a count of the # of races with that last name\n",
    "gdf = gdf.pivot_table(values='count', columns='race',index='name_last')\n",
    "\n",
    "# Converting NaN to zeros since that means there is no one that identifies with that race with that last name\n",
    "gdf = gdf.fillna(0)\n",
    "\n",
    "# Getting the totals of each last name\n",
    "gdf['total_n'] = gdf.sum(axis=1)\n",
    "\n",
    "gdf['total_norm'] = gdf['total_n']/np.max(gdf['total_n'])\n",
    "gdf['name_last'] = gdf.index"
   ]
  },
  {
   "cell_type": "code",
   "execution_count": 71,
   "id": "75884b65",
   "metadata": {},
   "outputs": [
    {
     "data": {
      "text/html": [
       "<div>\n",
       "<style scoped>\n",
       "    .dataframe tbody tr th:only-of-type {\n",
       "        vertical-align: middle;\n",
       "    }\n",
       "\n",
       "    .dataframe tbody tr th {\n",
       "        vertical-align: top;\n",
       "    }\n",
       "\n",
       "    .dataframe thead th {\n",
       "        text-align: right;\n",
       "    }\n",
       "</style>\n",
       "<table border=\"1\" class=\"dataframe\">\n",
       "  <thead>\n",
       "    <tr style=\"text-align: right;\">\n",
       "      <th>race</th>\n",
       "      <th>asian</th>\n",
       "      <th>hispanc</th>\n",
       "      <th>nh_black</th>\n",
       "      <th>nh_white</th>\n",
       "      <th>total_n</th>\n",
       "      <th>total_norm</th>\n",
       "      <th>name_last</th>\n",
       "    </tr>\n",
       "    <tr>\n",
       "      <th>name_last</th>\n",
       "      <th></th>\n",
       "      <th></th>\n",
       "      <th></th>\n",
       "      <th></th>\n",
       "      <th></th>\n",
       "      <th></th>\n",
       "      <th></th>\n",
       "    </tr>\n",
       "  </thead>\n",
       "  <tbody>\n",
       "    <tr>\n",
       "      <th>Fleurime Michel</th>\n",
       "      <td>0.0</td>\n",
       "      <td>0.0</td>\n",
       "      <td>1.0</td>\n",
       "      <td>0.0</td>\n",
       "      <td>1.0</td>\n",
       "      <td>0.00001</td>\n",
       "      <td>Fleurime Michel</td>\n",
       "    </tr>\n",
       "    <tr>\n",
       "      <th>Franklin</th>\n",
       "      <td>0.0</td>\n",
       "      <td>0.0</td>\n",
       "      <td>1.0</td>\n",
       "      <td>0.0</td>\n",
       "      <td>1.0</td>\n",
       "      <td>0.00001</td>\n",
       "      <td>Franklin</td>\n",
       "    </tr>\n",
       "    <tr>\n",
       "      <th>Grant Cliatt</th>\n",
       "      <td>0.0</td>\n",
       "      <td>0.0</td>\n",
       "      <td>1.0</td>\n",
       "      <td>0.0</td>\n",
       "      <td>1.0</td>\n",
       "      <td>0.00001</td>\n",
       "      <td>Grant Cliatt</td>\n",
       "    </tr>\n",
       "    <tr>\n",
       "      <th>Hassan</th>\n",
       "      <td>1.0</td>\n",
       "      <td>0.0</td>\n",
       "      <td>0.0</td>\n",
       "      <td>0.0</td>\n",
       "      <td>1.0</td>\n",
       "      <td>0.00001</td>\n",
       "      <td>Hassan</td>\n",
       "    </tr>\n",
       "    <tr>\n",
       "      <th>King</th>\n",
       "      <td>0.0</td>\n",
       "      <td>1.0</td>\n",
       "      <td>0.0</td>\n",
       "      <td>0.0</td>\n",
       "      <td>1.0</td>\n",
       "      <td>0.00001</td>\n",
       "      <td>King</td>\n",
       "    </tr>\n",
       "    <tr>\n",
       "      <th>Williams</th>\n",
       "      <td>0.0</td>\n",
       "      <td>0.0</td>\n",
       "      <td>0.0</td>\n",
       "      <td>1.0</td>\n",
       "      <td>1.0</td>\n",
       "      <td>0.00001</td>\n",
       "      <td>Williams</td>\n",
       "    </tr>\n",
       "    <tr>\n",
       "      <th>0Kharitonenko</th>\n",
       "      <td>0.0</td>\n",
       "      <td>0.0</td>\n",
       "      <td>0.0</td>\n",
       "      <td>1.0</td>\n",
       "      <td>1.0</td>\n",
       "      <td>0.00001</td>\n",
       "      <td>0Kharitonenko</td>\n",
       "    </tr>\n",
       "    <tr>\n",
       "      <th>1Amirthanayagam</th>\n",
       "      <td>1.0</td>\n",
       "      <td>0.0</td>\n",
       "      <td>0.0</td>\n",
       "      <td>0.0</td>\n",
       "      <td>1.0</td>\n",
       "      <td>0.00001</td>\n",
       "      <td>1Amirthanayagam</td>\n",
       "    </tr>\n",
       "    <tr>\n",
       "      <th>4R</th>\n",
       "      <td>0.0</td>\n",
       "      <td>0.0</td>\n",
       "      <td>0.0</td>\n",
       "      <td>1.0</td>\n",
       "      <td>1.0</td>\n",
       "      <td>0.00001</td>\n",
       "      <td>4R</td>\n",
       "    </tr>\n",
       "    <tr>\n",
       "      <th>77348 Dancing Rochanavibhata</th>\n",
       "      <td>1.0</td>\n",
       "      <td>0.0</td>\n",
       "      <td>0.0</td>\n",
       "      <td>0.0</td>\n",
       "      <td>1.0</td>\n",
       "      <td>0.00001</td>\n",
       "      <td>77348 Dancing Rochanavibhata</td>\n",
       "    </tr>\n",
       "    <tr>\n",
       "      <th>A De Feria</th>\n",
       "      <td>0.0</td>\n",
       "      <td>1.0</td>\n",
       "      <td>0.0</td>\n",
       "      <td>0.0</td>\n",
       "      <td>1.0</td>\n",
       "      <td>0.00001</td>\n",
       "      <td>A De Feria</td>\n",
       "    </tr>\n",
       "    <tr>\n",
       "      <th>A De Fernandez</th>\n",
       "      <td>0.0</td>\n",
       "      <td>1.0</td>\n",
       "      <td>0.0</td>\n",
       "      <td>0.0</td>\n",
       "      <td>1.0</td>\n",
       "      <td>0.00001</td>\n",
       "      <td>A De Fernandez</td>\n",
       "    </tr>\n",
       "    <tr>\n",
       "      <th>A F R Stephenson</th>\n",
       "      <td>0.0</td>\n",
       "      <td>0.0</td>\n",
       "      <td>0.0</td>\n",
       "      <td>1.0</td>\n",
       "      <td>1.0</td>\n",
       "      <td>0.00001</td>\n",
       "      <td>A F R Stephenson</td>\n",
       "    </tr>\n",
       "    <tr>\n",
       "      <th>A Felix</th>\n",
       "      <td>0.0</td>\n",
       "      <td>1.0</td>\n",
       "      <td>0.0</td>\n",
       "      <td>0.0</td>\n",
       "      <td>1.0</td>\n",
       "      <td>0.00001</td>\n",
       "      <td>A Felix</td>\n",
       "    </tr>\n",
       "    <tr>\n",
       "      <th>A Ghaffar</th>\n",
       "      <td>0.0</td>\n",
       "      <td>0.0</td>\n",
       "      <td>0.0</td>\n",
       "      <td>1.0</td>\n",
       "      <td>1.0</td>\n",
       "      <td>0.00001</td>\n",
       "      <td>A Ghaffar</td>\n",
       "    </tr>\n",
       "  </tbody>\n",
       "</table>\n",
       "</div>"
      ],
      "text/plain": [
       "race                          asian  hispanc  nh_black  nh_white  total_n  \\\n",
       "name_last                                                                   \n",
       " Fleurime Michel                0.0      0.0       1.0       0.0      1.0   \n",
       " Franklin                       0.0      0.0       1.0       0.0      1.0   \n",
       " Grant Cliatt                   0.0      0.0       1.0       0.0      1.0   \n",
       " Hassan                         1.0      0.0       0.0       0.0      1.0   \n",
       " King                           0.0      1.0       0.0       0.0      1.0   \n",
       " Williams                       0.0      0.0       0.0       1.0      1.0   \n",
       "0Kharitonenko                   0.0      0.0       0.0       1.0      1.0   \n",
       "1Amirthanayagam                 1.0      0.0       0.0       0.0      1.0   \n",
       "4R                              0.0      0.0       0.0       1.0      1.0   \n",
       "77348 Dancing Rochanavibhata    1.0      0.0       0.0       0.0      1.0   \n",
       "A De Feria                      0.0      1.0       0.0       0.0      1.0   \n",
       "A De Fernandez                  0.0      1.0       0.0       0.0      1.0   \n",
       "A F R Stephenson                0.0      0.0       0.0       1.0      1.0   \n",
       "A Felix                         0.0      1.0       0.0       0.0      1.0   \n",
       "A Ghaffar                       0.0      0.0       0.0       1.0      1.0   \n",
       "\n",
       "race                          total_norm                     name_last  \n",
       "name_last                                                               \n",
       " Fleurime Michel                 0.00001               Fleurime Michel  \n",
       " Franklin                        0.00001                      Franklin  \n",
       " Grant Cliatt                    0.00001                  Grant Cliatt  \n",
       " Hassan                          0.00001                        Hassan  \n",
       " King                            0.00001                          King  \n",
       " Williams                        0.00001                      Williams  \n",
       "0Kharitonenko                    0.00001                 0Kharitonenko  \n",
       "1Amirthanayagam                  0.00001               1Amirthanayagam  \n",
       "4R                               0.00001                            4R  \n",
       "77348 Dancing Rochanavibhata     0.00001  77348 Dancing Rochanavibhata  \n",
       "A De Feria                       0.00001                    A De Feria  \n",
       "A De Fernandez                   0.00001                A De Fernandez  \n",
       "A F R Stephenson                 0.00001              A F R Stephenson  \n",
       "A Felix                          0.00001                       A Felix  \n",
       "A Ghaffar                        0.00001                     A Ghaffar  "
      ]
     },
     "execution_count": 71,
     "metadata": {},
     "output_type": "execute_result"
    }
   ],
   "source": [
    "gdf[:15]"
   ]
  },
  {
   "cell_type": "code",
   "execution_count": 75,
   "id": "9689c3ac",
   "metadata": {},
   "outputs": [
    {
     "data": {
      "text/plain": [
       "['nh_white', 'nh_black', 'hispanc', 'asian']"
      ]
     },
     "execution_count": 75,
     "metadata": {},
     "output_type": "execute_result"
    }
   ],
   "source": [
    "races = sdf.race.unique().tolist()\n",
    "races"
   ]
  },
  {
   "cell_type": "code",
   "execution_count": 76,
   "id": "a505ebe7",
   "metadata": {},
   "outputs": [],
   "source": [
    "# converting races to proportions\n",
    "for r in races:\n",
    "    gdf[r] = gdf[r]/gdf['total_n']"
   ]
  },
  {
   "cell_type": "code",
   "execution_count": 77,
   "id": "d990818e",
   "metadata": {},
   "outputs": [
    {
     "data": {
      "text/html": [
       "<div>\n",
       "<style scoped>\n",
       "    .dataframe tbody tr th:only-of-type {\n",
       "        vertical-align: middle;\n",
       "    }\n",
       "\n",
       "    .dataframe tbody tr th {\n",
       "        vertical-align: top;\n",
       "    }\n",
       "\n",
       "    .dataframe thead th {\n",
       "        text-align: right;\n",
       "    }\n",
       "</style>\n",
       "<table border=\"1\" class=\"dataframe\">\n",
       "  <thead>\n",
       "    <tr style=\"text-align: right;\">\n",
       "      <th>race</th>\n",
       "      <th>asian</th>\n",
       "      <th>hispanc</th>\n",
       "      <th>nh_black</th>\n",
       "      <th>nh_white</th>\n",
       "      <th>total_n</th>\n",
       "      <th>total_norm</th>\n",
       "      <th>name_last</th>\n",
       "    </tr>\n",
       "    <tr>\n",
       "      <th>name_last</th>\n",
       "      <th></th>\n",
       "      <th></th>\n",
       "      <th></th>\n",
       "      <th></th>\n",
       "      <th></th>\n",
       "      <th></th>\n",
       "      <th></th>\n",
       "    </tr>\n",
       "  </thead>\n",
       "  <tbody>\n",
       "    <tr>\n",
       "      <th>Aamir</th>\n",
       "      <td>0.187500</td>\n",
       "      <td>0.000000</td>\n",
       "      <td>0.000000</td>\n",
       "      <td>0.062500</td>\n",
       "      <td>4.0</td>\n",
       "      <td>0.000038</td>\n",
       "      <td>Aamir</td>\n",
       "    </tr>\n",
       "    <tr>\n",
       "      <th>Aanonsen</th>\n",
       "      <td>0.005917</td>\n",
       "      <td>0.000000</td>\n",
       "      <td>0.000000</td>\n",
       "      <td>0.071006</td>\n",
       "      <td>13.0</td>\n",
       "      <td>0.000125</td>\n",
       "      <td>Aanonsen</td>\n",
       "    </tr>\n",
       "    <tr>\n",
       "      <th>Aaron</th>\n",
       "      <td>0.000004</td>\n",
       "      <td>0.000028</td>\n",
       "      <td>0.000458</td>\n",
       "      <td>0.000983</td>\n",
       "      <td>679.0</td>\n",
       "      <td>0.006506</td>\n",
       "      <td>Aaron</td>\n",
       "    </tr>\n",
       "    <tr>\n",
       "      <th>Aasim</th>\n",
       "      <td>0.500000</td>\n",
       "      <td>0.000000</td>\n",
       "      <td>0.000000</td>\n",
       "      <td>0.000000</td>\n",
       "      <td>2.0</td>\n",
       "      <td>0.000019</td>\n",
       "      <td>Aasim</td>\n",
       "    </tr>\n",
       "    <tr>\n",
       "      <th>Ababa</th>\n",
       "      <td>0.500000</td>\n",
       "      <td>0.000000</td>\n",
       "      <td>0.000000</td>\n",
       "      <td>0.000000</td>\n",
       "      <td>2.0</td>\n",
       "      <td>0.000019</td>\n",
       "      <td>Ababa</td>\n",
       "    </tr>\n",
       "    <tr>\n",
       "      <th>...</th>\n",
       "      <td>...</td>\n",
       "      <td>...</td>\n",
       "      <td>...</td>\n",
       "      <td>...</td>\n",
       "      <td>...</td>\n",
       "      <td>...</td>\n",
       "      <td>...</td>\n",
       "    </tr>\n",
       "    <tr>\n",
       "      <th>Zych</th>\n",
       "      <td>0.000118</td>\n",
       "      <td>0.000591</td>\n",
       "      <td>0.000000</td>\n",
       "      <td>0.010161</td>\n",
       "      <td>92.0</td>\n",
       "      <td>0.000881</td>\n",
       "      <td>Zych</td>\n",
       "    </tr>\n",
       "    <tr>\n",
       "      <th>Zylinski</th>\n",
       "      <td>0.008264</td>\n",
       "      <td>0.000000</td>\n",
       "      <td>0.000000</td>\n",
       "      <td>0.082645</td>\n",
       "      <td>11.0</td>\n",
       "      <td>0.000105</td>\n",
       "      <td>Zylinski</td>\n",
       "    </tr>\n",
       "    <tr>\n",
       "      <th>Zymberi</th>\n",
       "      <td>0.111111</td>\n",
       "      <td>0.000000</td>\n",
       "      <td>0.000000</td>\n",
       "      <td>0.222222</td>\n",
       "      <td>3.0</td>\n",
       "      <td>0.000029</td>\n",
       "      <td>Zymberi</td>\n",
       "    </tr>\n",
       "    <tr>\n",
       "      <th>Zyung</th>\n",
       "      <td>0.500000</td>\n",
       "      <td>0.000000</td>\n",
       "      <td>0.000000</td>\n",
       "      <td>0.000000</td>\n",
       "      <td>2.0</td>\n",
       "      <td>0.000019</td>\n",
       "      <td>Zyung</td>\n",
       "    </tr>\n",
       "    <tr>\n",
       "      <th>Zywot</th>\n",
       "      <td>0.111111</td>\n",
       "      <td>0.000000</td>\n",
       "      <td>0.000000</td>\n",
       "      <td>0.222222</td>\n",
       "      <td>3.0</td>\n",
       "      <td>0.000029</td>\n",
       "      <td>Zywot</td>\n",
       "    </tr>\n",
       "  </tbody>\n",
       "</table>\n",
       "<p>41788 rows × 7 columns</p>\n",
       "</div>"
      ],
      "text/plain": [
       "race          asian   hispanc  nh_black  nh_white  total_n  total_norm  \\\n",
       "name_last                                                                \n",
       "Aamir      0.187500  0.000000  0.000000  0.062500      4.0    0.000038   \n",
       "Aanonsen   0.005917  0.000000  0.000000  0.071006     13.0    0.000125   \n",
       "Aaron      0.000004  0.000028  0.000458  0.000983    679.0    0.006506   \n",
       "Aasim      0.500000  0.000000  0.000000  0.000000      2.0    0.000019   \n",
       "Ababa      0.500000  0.000000  0.000000  0.000000      2.0    0.000019   \n",
       "...             ...       ...       ...       ...      ...         ...   \n",
       "Zych       0.000118  0.000591  0.000000  0.010161     92.0    0.000881   \n",
       "Zylinski   0.008264  0.000000  0.000000  0.082645     11.0    0.000105   \n",
       "Zymberi    0.111111  0.000000  0.000000  0.222222      3.0    0.000029   \n",
       "Zyung      0.500000  0.000000  0.000000  0.000000      2.0    0.000019   \n",
       "Zywot      0.111111  0.000000  0.000000  0.222222      3.0    0.000029   \n",
       "\n",
       "race      name_last  \n",
       "name_last            \n",
       "Aamir         Aamir  \n",
       "Aanonsen   Aanonsen  \n",
       "Aaron         Aaron  \n",
       "Aasim         Aasim  \n",
       "Ababa         Ababa  \n",
       "...             ...  \n",
       "Zych           Zych  \n",
       "Zylinski   Zylinski  \n",
       "Zymberi     Zymberi  \n",
       "Zyung         Zyung  \n",
       "Zywot         Zywot  \n",
       "\n",
       "[41788 rows x 7 columns]"
      ]
     },
     "execution_count": 77,
     "metadata": {},
     "output_type": "execute_result"
    }
   ],
   "source": [
    "# checking some last names that identify as Asian and some other race\n",
    "df_mask = (gdf['asian'] < 1) & (gdf['asian'] > 0)\n",
    "filt_df = gdf[df_mask]\n",
    "filt_df"
   ]
  },
  {
   "cell_type": "markdown",
   "id": "dc6997b6",
   "metadata": {},
   "source": [
    "# Data Processing"
   ]
  },
  {
   "cell_type": "code",
   "execution_count": 110,
   "id": "a458a015",
   "metadata": {},
   "outputs": [],
   "source": [
    "from sklearn.feature_extraction.text import CountVectorizer\n",
    "from sklearn.model_selection import train_test_split\n",
    "from sklearn.preprocessing import Normalizer\n",
    "from keras.preprocessing import sequence\n",
    "from sklearn.metrics import classification_report\n",
    "\n",
    "NGRAMS = 2\n",
    "feature_len = 25"
   ]
  },
  {
   "cell_type": "code",
   "execution_count": 12,
   "id": "c36fe024",
   "metadata": {},
   "outputs": [
    {
     "name": "stdout",
     "output_type": "stream",
     "text": [
      "num_words = 1423\n"
     ]
    }
   ],
   "source": [
    "# build n-gram list\n",
    "vect = CountVectorizer(analyzer='char', max_df=0.3, min_df=3, ngram_range=(NGRAMS, NGRAMS), lowercase=False) \n",
    "a = vect.fit_transform(sdf.name_last)\n",
    "vocab = vect.vocabulary_\n",
    "\n",
    "# sort n-gram by freq (highest -> lowest)\n",
    "words = []\n",
    "for b in vocab:\n",
    "    c = vocab[b]\n",
    "    #print(b, c, a[:, c].sum())\n",
    "    words.append((a[:, c].sum(), b))\n",
    "    #break\n",
    "words = sorted(words, reverse=True)\n",
    "words_list = [w[1] for w in words]\n",
    "num_words = len(words_list)\n",
    "print(\"num_words = %d\" % num_words)\n",
    "\n",
    "def find_ngrams(text, n):\n",
    "    a = zip(*[text[i:] for i in range(n)])\n",
    "    wi = []\n",
    "    for i in a:\n",
    "        w = ''.join(i)\n",
    "        try:\n",
    "            idx = words_list.index(w)\n",
    "        except:\n",
    "            idx = 0\n",
    "        wi.append(idx)\n",
    "    return wi"
   ]
  },
  {
   "cell_type": "code",
   "execution_count": 78,
   "id": "29b0c2a9",
   "metadata": {},
   "outputs": [
    {
     "data": {
      "text/plain": [
       "Index(['asian', 'hispanc', 'nh_black', 'nh_white', 'total_n', 'total_norm',\n",
       "       'name_last'],\n",
       "      dtype='object', name='race')"
      ]
     },
     "execution_count": 78,
     "metadata": {},
     "output_type": "execute_result"
    }
   ],
   "source": [
    "gdf.columns"
   ]
  },
  {
   "cell_type": "code",
   "execution_count": 79,
   "id": "31ebf06e",
   "metadata": {},
   "outputs": [],
   "source": [
    "gdf.drop('total_n', axis=1, inplace=True)"
   ]
  },
  {
   "cell_type": "code",
   "execution_count": 83,
   "id": "210fa096",
   "metadata": {},
   "outputs": [
    {
     "data": {
      "text/plain": [
       "array([[0.00000000e+00, 0.00000000e+00, 1.00000000e+00, 0.00000000e+00,\n",
       "        9.58138911e-06],\n",
       "       [0.00000000e+00, 0.00000000e+00, 1.00000000e+00, 0.00000000e+00,\n",
       "        9.58138911e-06],\n",
       "       [0.00000000e+00, 0.00000000e+00, 1.00000000e+00, 0.00000000e+00,\n",
       "        9.58138911e-06],\n",
       "       ...,\n",
       "       [0.00000000e+00, 0.00000000e+00, 0.00000000e+00, 1.00000000e+00,\n",
       "        9.58138911e-06],\n",
       "       [1.00000000e+00, 0.00000000e+00, 0.00000000e+00, 0.00000000e+00,\n",
       "        9.58138911e-06],\n",
       "       [0.00000000e+00, 0.00000000e+00, 0.00000000e+00, 1.00000000e+00,\n",
       "        9.58138911e-06]])"
      ]
     },
     "execution_count": 83,
     "metadata": {},
     "output_type": "execute_result"
    }
   ],
   "source": [
    "y_arr = np.array(gdf.iloc[:,:-1])\n",
    "y_arr"
   ]
  },
  {
   "cell_type": "code",
   "execution_count": 84,
   "id": "c5e4cd11",
   "metadata": {},
   "outputs": [],
   "source": [
    "# build X from index of n-gram sequence\n",
    "X = np.array(gdf.name_last.apply(lambda c: find_ngrams(c, NGRAMS)))"
   ]
  },
  {
   "cell_type": "code",
   "execution_count": 93,
   "id": "b32e6350",
   "metadata": {},
   "outputs": [],
   "source": [
    "X_train, X_test, y_train, y_test = train_test_split(X, y_arr, test_size=0.3, random_state=10)"
   ]
  },
  {
   "cell_type": "code",
   "execution_count": 101,
   "id": "0ab3a6be",
   "metadata": {},
   "outputs": [],
   "source": [
    "X_train = sequence.pad_sequences(X_train, maxlen=feature_len)\n",
    "X_test = sequence.pad_sequences(X_test, maxlen=feature_len)"
   ]
  },
  {
   "cell_type": "markdown",
   "id": "bb2f657d",
   "metadata": {},
   "source": [
    "# KNNRegressor Model"
   ]
  },
  {
   "cell_type": "code",
   "execution_count": 115,
   "id": "b111ec04",
   "metadata": {},
   "outputs": [],
   "source": [
    "from sklearn.model_selection import GridSearchCV\n",
    "from sklearn.metrics import mean_squared_error"
   ]
  },
  {
   "cell_type": "code",
   "execution_count": 118,
   "id": "f141c530",
   "metadata": {},
   "outputs": [
    {
     "name": "stdout",
     "output_type": "stream",
     "text": [
      "Fitting 5 folds for each of 5 candidates, totalling 25 fits\n",
      "[CV] END ......................................n_neighbors=3; total time=22.7min\n",
      "[CV] END ......................................n_neighbors=3; total time=21.8min\n",
      "[CV] END ......................................n_neighbors=3; total time=19.6min\n",
      "[CV] END ......................................n_neighbors=3; total time=27.7min\n",
      "[CV] END ......................................n_neighbors=3; total time=26.4min\n",
      "[CV] END ......................................n_neighbors=4; total time=29.3min\n",
      "[CV] END ......................................n_neighbors=4; total time=28.1min\n",
      "[CV] END ......................................n_neighbors=4; total time=23.8min\n",
      "[CV] END ......................................n_neighbors=4; total time=25.7min\n",
      "[CV] END ......................................n_neighbors=4; total time=32.0min\n",
      "[CV] END ......................................n_neighbors=5; total time=26.0min\n",
      "[CV] END ......................................n_neighbors=5; total time=25.1min\n",
      "[CV] END ......................................n_neighbors=5; total time=25.6min\n",
      "[CV] END ......................................n_neighbors=5; total time=25.1min\n",
      "[CV] END ......................................n_neighbors=5; total time=31.0min\n",
      "[CV] END ......................................n_neighbors=6; total time=29.0min\n",
      "[CV] END ......................................n_neighbors=6; total time=34.1min\n",
      "[CV] END ......................................n_neighbors=6; total time=28.2min\n",
      "[CV] END ......................................n_neighbors=6; total time=27.4min\n",
      "[CV] END ......................................n_neighbors=6; total time=26.5min\n",
      "[CV] END ......................................n_neighbors=7; total time=22.7min\n",
      "[CV] END ......................................n_neighbors=7; total time=25.7min\n",
      "[CV] END ......................................n_neighbors=7; total time=25.9min\n",
      "[CV] END ......................................n_neighbors=7; total time=33.0min\n",
      "[CV] END ......................................n_neighbors=7; total time=28.5min\n"
     ]
    },
    {
     "data": {
      "text/plain": [
       "GridSearchCV(estimator=KNeighborsRegressor(),\n",
       "             param_grid={'n_neighbors': range(3, 8)}, verbose=2)"
      ]
     },
     "execution_count": 118,
     "metadata": {},
     "output_type": "execute_result"
    }
   ],
   "source": [
    "knn = KNeighborsRegressor()\n",
    "\n",
    "param = {'n_neighbors': range(3,8)}\n",
    "clf = GridSearchCV(knn, param, verbose=2)\n",
    "\n",
    "clf.fit(X_train, y_train)"
   ]
  },
  {
   "cell_type": "code",
   "execution_count": 119,
   "id": "4c317c1e",
   "metadata": {},
   "outputs": [
    {
     "data": {
      "text/plain": [
       "{'n_neighbors': 7}"
      ]
     },
     "execution_count": 119,
     "metadata": {},
     "output_type": "execute_result"
    }
   ],
   "source": [
    "clf.best_params_"
   ]
  },
  {
   "cell_type": "code",
   "execution_count": 125,
   "id": "88da22e7",
   "metadata": {},
   "outputs": [],
   "source": [
    "knn = clf.best_estimator_"
   ]
  },
  {
   "cell_type": "code",
   "execution_count": 126,
   "id": "83edfac7",
   "metadata": {},
   "outputs": [],
   "source": [
    "y_pred = knn.predict(X_test)"
   ]
  },
  {
   "cell_type": "code",
   "execution_count": 127,
   "id": "78f78d8d",
   "metadata": {},
   "outputs": [
    {
     "data": {
      "text/plain": [
       "array([[0.00000000e+00, 2.85714286e-02, 3.90625000e-03, 3.66927083e-01,\n",
       "        4.65381757e-05],\n",
       "       [0.00000000e+00, 2.85714286e-01, 4.28571429e-01, 2.85714286e-01,\n",
       "        9.58138911e-06],\n",
       "       [1.33588939e-05, 1.42939829e-01, 1.42875139e-01, 1.22132140e-01,\n",
       "        5.83095966e-04],\n",
       "       [0.00000000e+00, 7.25274725e-01, 0.00000000e+00, 1.42857143e-01,\n",
       "        2.60066276e-05],\n",
       "       [1.43314286e-01, 4.42539683e-03, 2.28571429e-04, 4.61387488e-01,\n",
       "        7.11760334e-05]])"
      ]
     },
     "execution_count": 127,
     "metadata": {},
     "output_type": "execute_result"
    }
   ],
   "source": [
    "y_pred[:5]"
   ]
  },
  {
   "cell_type": "code",
   "execution_count": 128,
   "id": "e76c960c",
   "metadata": {},
   "outputs": [
    {
     "name": "stdout",
     "output_type": "stream",
     "text": [
      "0.06891562246641425\n"
     ]
    }
   ],
   "source": [
    "print (mean_squared_error(y_test, y_pred))"
   ]
  },
  {
   "cell_type": "code",
   "execution_count": null,
   "id": "c899be75",
   "metadata": {},
   "outputs": [],
   "source": []
  }
 ],
 "metadata": {
  "kernelspec": {
   "display_name": "Python 3 (ipykernel)",
   "language": "python",
   "name": "python3"
  },
  "language_info": {
   "codemirror_mode": {
    "name": "ipython",
    "version": 3
   },
   "file_extension": ".py",
   "mimetype": "text/x-python",
   "name": "python",
   "nbconvert_exporter": "python",
   "pygments_lexer": "ipython3",
   "version": "3.8.12"
  },
  "toc": {
   "base_numbering": 1,
   "nav_menu": {},
   "number_sections": true,
   "sideBar": true,
   "skip_h1_title": false,
   "title_cell": "Table of Contents",
   "title_sidebar": "Contents",
   "toc_cell": false,
   "toc_position": {},
   "toc_section_display": true,
   "toc_window_display": false
  },
  "varInspector": {
   "cols": {
    "lenName": 16,
    "lenType": 16,
    "lenVar": 40
   },
   "kernels_config": {
    "python": {
     "delete_cmd_postfix": "",
     "delete_cmd_prefix": "del ",
     "library": "var_list.py",
     "varRefreshCmd": "print(var_dic_list())"
    },
    "r": {
     "delete_cmd_postfix": ") ",
     "delete_cmd_prefix": "rm(",
     "library": "var_list.r",
     "varRefreshCmd": "cat(var_dic_list()) "
    }
   },
   "types_to_exclude": [
    "module",
    "function",
    "builtin_function_or_method",
    "instance",
    "_Feature"
   ],
   "window_display": false
  }
 },
 "nbformat": 4,
 "nbformat_minor": 5
}
